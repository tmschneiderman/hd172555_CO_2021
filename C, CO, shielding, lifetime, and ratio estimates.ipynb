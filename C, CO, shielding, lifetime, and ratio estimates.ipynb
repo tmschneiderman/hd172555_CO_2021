{
 "cells": [
  {
   "cell_type": "code",
   "execution_count": 1,
   "metadata": {},
   "outputs": [],
   "source": [
    "%matplotlib notebook \n",
    "\n",
    "import math\n",
    "import numpy as np\n",
    "import matplotlib.pyplot as plt\n",
    "import matplotlib.gridspec as gridspec\n",
    "import matplotlib.ticker as ticker\n",
    "import astropy.units as u\n",
    "import astropy.constants as const\n",
    "\n",
    "from scipy.interpolate import interp1d\n",
    "\n",
    "\n",
    "\n",
    "mm_c = 12.01*const.u.value*const.u.unit\n",
    "mm_co = 28.01*const.u.value*const.u.unit\n",
    "mm_h2 = 2*const.u.value*const.u.unit\n",
    "\n",
    "boltz_const = const.k_B.value * const.k_B.unit\n",
    "grav_const = const.G.value * const.G.unit\n",
    "stellar_mass = 1.76 * const.M_sun\n",
    "\n",
    "h2_co_ratio_ism = 1e4\n",
    "h2_co_ratio_pp1 = 1e5\n",
    "h2_co_ratio_pp2 = 1e6\n",
    "\n",
    "ring_mid = 7.5 * u.AU\n",
    "ring_width = 3.3* u.AU\n",
    "\n",
    "\n",
    "high_temperature = 169 * u.K\n",
    "co_mass_lower_ht = (4.5e-6 * (const.M_earth).value)*(const.M_earth).unit\n",
    "co_mass_upper_ht = (12.1e-6 * (const.M_earth).value)*(const.M_earth).unit\n",
    "\n",
    "h2_mass_lower_ht_ism = (mm_h2/mm_co) * h2_co_ratio_ism * co_mass_lower_ht\n",
    "h2_mass_upper_ht_ism = (mm_h2/mm_co) * h2_co_ratio_ism * co_mass_upper_ht\n",
    "\n",
    "low_temperature = 50 * u.K\n",
    "co_mass_lt = (0.01 * (const.M_earth).value)*(const.M_earth).unit\n",
    "\n",
    "unshield_timescale = 1*u.day\n"
   ]
  },
  {
   "cell_type": "code",
   "execution_count": 9,
   "metadata": {},
   "outputs": [],
   "source": [
    "def find_nearest(array,value):\n",
    "    \"\"\"\n",
    "    Inputs:\n",
    "        -   array is the array you're searching for a value in\n",
    "        -   value is the value you're searching for\n",
    "    Returns:\n",
    "        -   idx, the index of the array entry closest to the value\n",
    "    \"\"\"\n",
    "    temp = 1000\n",
    "    for i in range(0,len(array)):\n",
    "        if  np.abs(array[i]-value) <= temp:\n",
    "            temp = np.abs(array[i]-value)\n",
    "            idx = i\n",
    "    return(idx)\n",
    "\n",
    "def calc_column_density(mass, temperature, mm):\n",
    "    \"\"\"\n",
    "    Inputs: \n",
    "        - mass:         mass of the species in question\n",
    "        - temperature:  temperature locally\n",
    "        - mm:           molar mass of the dominating species\n",
    "    Output: \n",
    "        - column_density: in 1/cm^2\n",
    "        \n",
    "    Notes:\n",
    "        - aspect ratio is the ratio of the sound speed, c_s and keplerian velocity, v_k\n",
    "          It is the ratio of the height of the disk to the radial location\n",
    "    \"\"\"\n",
    "    \n",
    "    aspect_ratio = math.sqrt((boltz_const * temperature * ring_mid) / (mm * grav_const * stellar_mass))\n",
    "    path_length = (2 * math.sqrt((2 * ring_mid * ring_width).value) * u.AU).to(u.cm)\n",
    "    \n",
    "    ring_volume = (2 * math.pi * aspect_ratio * ring_width * ring_mid**2).to(u.cm**3)\n",
    "    \n",
    "    column_density = (mass * path_length) / (mm * ring_volume)\n",
    "    \n",
    "    return(column_density)\n",
    "\n",
    "def calc_mass(column_density, temperature, mm):\n",
    "    \"\"\"\n",
    "    Inputs: \n",
    "        - column_density: column density of the species in question\n",
    "        - temperature:    temperature locally\n",
    "        - mm:             molar mass of the dominating species\n",
    "    Outputs: \n",
    "        - mass:   in kg\n",
    "        \n",
    "    Notes:\n",
    "        - aspect ratio is the ratio of the sound speed, c_s and keplerian velocity, v_k\n",
    "          It is the ratio of the height of the disk to the radial location        \n",
    "    \"\"\"\n",
    "    aspect_ratio = math.sqrt((boltz_const * temperature * ring_mid) / (mm * grav_const * stellar_mass))\n",
    "    path_length = (2 * math.sqrt((2 * ring_mid * ring_width).value) * u.AU).to(u.cm)\n",
    "    \n",
    "    ring_volume = (2 * math.pi * aspect_ratio * ring_width * ring_mid**2).to(u.cm**3)\n",
    "    \n",
    "    mass = column_density * mm * ring_volume / path_length\n",
    "    return(mass)"
   ]
  },
  {
   "cell_type": "code",
   "execution_count": 3,
   "metadata": {},
   "outputs": [],
   "source": [
    "colden_co_lower_ht = calc_column_density(co_mass_lower_ht, high_temperature, mm_co)\n",
    "colden_co_upper_ht = calc_column_density(co_mass_upper_ht, high_temperature, mm_co)\n",
    "\n",
    "colden_h2_lower_ht_ism = calc_column_density(h2_mass_lower_ht_ism, high_temperature, mm_h2)\n",
    "colden_h2_upper_ht_ism = calc_column_density(h2_mass_upper_ht_ism, high_temperature, mm_h2)\n",
    "\n",
    "colden_co_lt = calc_column_density(co_mass_lt, low_temperature, mm_co)\n"
   ]
  },
  {
   "cell_type": "code",
   "execution_count": 4,
   "metadata": {},
   "outputs": [],
   "source": [
    "filepath = \"./co_values/\"\n",
    "\n",
    "labels = [\"4000K\",\n",
    "          \"10000K\",\n",
    "          \"20000K\",\n",
    "          \"solar\"]\n",
    "\n",
    "filenames = [\"photodissociation_4000K_shielding.txt\",\n",
    "             \"photodissociation_10000K_shielding.txt\",\n",
    "             \"photodissociation_20000K_shielding.txt\",\n",
    "             \"photodissociation_solar_shielding.txt\"]\n",
    "\n",
    "shielding_funcs = {}\n",
    "for index in range(0,len(filenames)):\n",
    "    temp = np.loadtxt(filepath+filenames[index],skiprows = 4, dtype=str)\n",
    "    temp = np.float_(temp)\n",
    "    shielding_funcs.update({labels[index]:temp})\n",
    "    \n",
    "axes_info = {\"h2\":{\"dat_column\":1,\n",
    "                   \"title\":\"CO Shielding by H2\"},\n",
    "             \"self\":{\"dat_column\":3,\n",
    "                     \"title\":\"CO self-shielding\"},\n",
    "             \"c\":{\"dat_column\":4,\n",
    "                  \"title\":\"CO Shielding by C\"},\n",
    "             \"co\":{\"dat_column\":6,\n",
    "                   \"title\":\"CO Shielding by CO\"}}\n"
   ]
  },
  {
   "cell_type": "markdown",
   "metadata": {},
   "source": [
    "If you want to evaluate the interpolated shielding functions, the appropriate value will be 10**shield_func(np.log10(value))\n"
   ]
  },
  {
   "cell_type": "code",
   "execution_count": 5,
   "metadata": {},
   "outputs": [
    {
     "name": "stderr",
     "output_type": "stream",
     "text": [
      "C:\\ProgramData\\Anaconda3\\lib\\site-packages\\ipykernel_launcher.py:7: RuntimeWarning: divide by zero encountered in log10\n",
      "  import sys\n",
      "C:\\ProgramData\\Anaconda3\\lib\\site-packages\\ipykernel_launcher.py:8: RuntimeWarning: divide by zero encountered in log10\n",
      "  \n"
     ]
    }
   ],
   "source": [
    "selfshield_func_10000K = interp1d(np.log10(shielding_funcs['10000K'][:,0]),np.log10(shielding_funcs['10000K'][:,3]))\n",
    "selfshield_func_4000K = interp1d(np.log10(shielding_funcs['4000K'][:,0]),np.log10(shielding_funcs['4000K'][:,3]))\n",
    "\n",
    "h2shield_func_10000K = interp1d(np.log10(shielding_funcs['10000K'][:,0]),np.log10(shielding_funcs['10000K'][:,1]))\n",
    "h2shield_func_4000K = interp1d(np.log10(shielding_funcs['4000K'][:,0]),np.log10(shielding_funcs['4000K'][:,1]))\n",
    "\n",
    "cshield_func_10000K = interp1d(np.log10(shielding_funcs['10000K'][:,0]),np.log10(shielding_funcs['10000K'][:,4]))\n",
    "cshield_func_4000K = interp1d(np.log10(shielding_funcs['4000K'][:,0]),np.log10(shielding_funcs['4000K'][:,4]))\n",
    "\n",
    "colden_for_interp = np.logspace(13,24,100000)*(1/u.cm**2)"
   ]
  },
  {
   "cell_type": "markdown",
   "metadata": {},
   "source": [
    "Below, we calculate the self-shielding present for three masses of CO in the system:\n",
    "\n",
    "    1. The mass of CO derived for a low temp case (<50 K), where the CO is optically thick. \n",
    "    2. The upper-bound mass of CO for a high temper case (>50 K), where the CO is optically thin. \n",
    "    3. The lower-bound mass of CO for a high temp case (>50 K), where the CO is optically thin"
   ]
  },
  {
   "cell_type": "code",
   "execution_count": 6,
   "metadata": {},
   "outputs": [
    {
     "name": "stdout",
     "output_type": "stream",
     "text": [
      "For a CO mass of 2.69e+19 kg, the CO column density is 2.01e+18 1 / cm2\n",
      "\t This yields a CO lifetime of 1.83e+00 yr\n",
      "For a CO mass of 7.23e+19 kg, the CO column density is 5.40e+18 1 / cm2\n",
      "\t This yields a CO lifetime of 4.11e+00 yr\n",
      "For a CO mass of 5.97e+22 kg, the CO column density is 8.20e+21 1 / cm2\n",
      "\t This yields a CO lifetime of 3.08e+04 yr\n"
     ]
    }
   ],
   "source": [
    "shield_4000K = 10**selfshield_func_4000K(np.log10(colden_co_lower_ht.value))\n",
    "shield_10000K = 10**selfshield_func_10000K(np.log10(colden_co_lower_ht.value))\n",
    "shield_8000K_lower_ht = (shield_4000K+(2/3)*(shield_10000K - shield_4000K))\n",
    "\n",
    "shield_4000K = 10**selfshield_func_4000K(np.log10(colden_co_upper_ht.value))\n",
    "shield_10000K = 10**selfshield_func_10000K(np.log10(colden_co_upper_ht.value))\n",
    "shield_8000K_upper_ht = (shield_4000K+(2/3)*(shield_10000K - shield_4000K))\n",
    "\n",
    "shield_4000K = 10**selfshield_func_4000K(np.log10(colden_co_lt.value))\n",
    "shield_10000K = 10**selfshield_func_10000K(np.log10(colden_co_lt.value))\n",
    "shield_8000K_lt = (shield_4000K+(2/3)*(shield_10000K - shield_4000K))\n",
    "\n",
    "print(f\"For a CO mass of {co_mass_lower_ht:.2e}, the CO column density is {colden_co_lower_ht:.2e}\")\n",
    "print(f\"\\t This yields a CO lifetime of {(unshield_timescale/shield_8000K_lower_ht).to(u.yr):.2e}\")\n",
    "print(f\"For a CO mass of {co_mass_upper_ht:.2e}, the CO column density is {colden_co_upper_ht:.2e}\")\n",
    "print(f\"\\t This yields a CO lifetime of {(unshield_timescale/shield_8000K_upper_ht).to(u.yr):.2e}\")\n",
    "print(f\"For a CO mass of {co_mass_lt:.2e}, the CO column density is {colden_co_lt:.2e}\")\n",
    "print(f\"\\t This yields a CO lifetime of {(unshield_timescale/shield_8000K_lt).to(u.yr):.2e}\")\n"
   ]
  },
  {
   "cell_type": "markdown",
   "metadata": {},
   "source": [
    "Below, we calculate the shielding from H2 if H2 was present at the interstellar CO/H2 ratio of 10^-4 and update the aspect ratio (and thus ring volume) to one where h2 is the dominant species, and thus dominates the scale height. "
   ]
  },
  {
   "cell_type": "code",
   "execution_count": 7,
   "metadata": {},
   "outputs": [
    {
     "name": "stdout",
     "output_type": "stream",
     "text": [
      "For a CO mass of 2.69e+19 kg and H2/CO ISM ratio of 1.00e+04\n",
      "\t the H2 mass is 1.92e+22 kg and the H2 column density is 5.36e+21 1 / cm2\n",
      "\t\t This yields a CO lifetime of 2.15e+04 yr\n",
      "For a CO mass of 7.23e+19 kg and H2/CO ISM ratio of 1.00e+04\n",
      "\t the H2 mass is 5.16e+22 kg  and the H2 column density is 1.44e+22 1 / cm2\n",
      "\t\t This yields a CO lifetime of 1.94e+10 yr\n"
     ]
    }
   ],
   "source": [
    "shield_4000K = 10**h2shield_func_4000K(np.log10(colden_h2_lower_ht_ism.value*10))\n",
    "shield_10000K = 10**h2shield_func_10000K(np.log10(colden_h2_lower_ht_ism.value*10))\n",
    "shield_8000K_lower_ht = (shield_4000K+(2/3)*(shield_10000K - shield_4000K))\n",
    "\n",
    "shield_4000K = 10**h2shield_func_4000K(np.log10(colden_h2_upper_ht_ism.value*10))\n",
    "shield_10000K = 10**h2shield_func_10000K(np.log10(colden_h2_upper_ht_ism.value*10))\n",
    "shield_8000K_upper_ht = (shield_4000K+(2/3)*(shield_10000K - shield_4000K))\n",
    "\n",
    "print(f\"For a CO mass of {co_mass_lower_ht:.2e} and H2/CO ISM ratio of {h2_co_ratio_ism:.2e}\")\n",
    "print(f\"\\t the H2 mass is {h2_mass_lower_ht_ism:.2e} and the H2 column density is {colden_h2_lower_ht_ism:.2e}\")\n",
    "print(f\"\\t\\t This yields a CO lifetime of {(unshield_timescale/shield_8000K_lower_ht).to(u.yr):.2e}\")\n",
    "\n",
    "print(f\"For a CO mass of {co_mass_upper_ht:.2e} and H2/CO ISM ratio of {h2_co_ratio_ism:.2e}\")\n",
    "print(f\"\\t the H2 mass is {h2_mass_upper_ht_ism:.2e}  and the H2 column density is {colden_h2_upper_ht_ism:.2e}\")\n",
    "print(f\"\\t\\t This yields a CO lifetime of {(unshield_timescale/shield_8000K_upper_ht).to(u.yr):.2e}\")"
   ]
  },
  {
   "cell_type": "markdown",
   "metadata": {},
   "source": [
    "Below, we calculate the mass of carbon required to shield the CO for 0.2 Myr. This timescale is chosen as it is the length of time needed for debris to circularize after a giant impact in this system at this age. "
   ]
  },
  {
   "cell_type": "code",
   "execution_count": 10,
   "metadata": {},
   "outputs": [
    {
     "name": "stdout",
     "output_type": "stream",
     "text": [
      "To achieve a lifetime of 2.0e+05 yr\n",
      "\tFor a 10000 K star, you need a C column density of \n",
      "\t\t1.06e+18 1 / cm2\n",
      "\tFor a 4000 K star, you need a C column density of \n",
      "\t\t1.03e+18 1 / cm2\n",
      "Assuming the column density can be scaled for an 8000K star, \n",
      "\tFor a 8000 K star, you need a C column density of \n",
      "\t\t1.05e+18 1 / cm2\n",
      "\tThis translates to a C mass of \n",
      "\t\t9.17e+18 kg\n",
      "\t\t1.54e-06 M_earth\n",
      "This yields C/CO ratios at 169 K ranging between\n",
      "\t3.41e-01\n",
      "\t1.27e-01\n"
     ]
    }
   ],
   "source": [
    "interp_cshield_func_10000K = 10**cshield_func_10000K(np.log10(colden_for_interp.value))\n",
    "interp_cshield_func_4000K = 10**cshield_func_4000K(np.log10(colden_for_interp.value))\n",
    "\n",
    "timescale_pt2Myr = (0.2e6 * u.yr).to(unshield_timescale.unit)\n",
    "shield_target = unshield_timescale/timescale_pt2Myr \n",
    "\n",
    "idx_10000K_pt2Myr = find_nearest(interp_cshield_func_10000K,shield_target.value)\n",
    "idx_4000K_pt2Myr = find_nearest(interp_cshield_func_4000K,shield_target.value)\n",
    "\n",
    "colden_10000K_pt2Myr = colden_for_interp[idx_10000K_pt2Myr]\n",
    "colden_4000K_pt2Myr = colden_for_interp[idx_4000K_pt2Myr]\n",
    "colden_8000K_pt2Myr = colden_4000K_pt2Myr + \\\n",
    "                      (2/3)*(colden_10000K_pt2Myr - colden_4000K_pt2Myr)\n",
    "\n",
    "cmass_8000K_pt2Myr = calc_mass(colden_8000K_pt2Myr, high_temperature, mm_c)\n",
    "\n",
    "print(f\"To achieve a lifetime of {timescale_pt2Myr.to(u.yr):.1e}\")\n",
    "print(\"\\tFor a 10000 K star, you need a C column density of \")\n",
    "print(f\"\\t\\t{colden_10000K_pt2Myr:.2e}\")\n",
    "print(\"\\tFor a 4000 K star, you need a C column density of \")\n",
    "print(f\"\\t\\t{colden_4000K_pt2Myr:.2e}\")\n",
    "print(\"Assuming the column density can be scaled for an 8000K star, \")\n",
    "print(\"\\tFor a 8000 K star, you need a C column density of \")\n",
    "print(f\"\\t\\t{colden_8000K_pt2Myr:.2e}\")\n",
    "print(\"\\tThis translates to a C mass of \")\n",
    "print(f\"\\t\\t{cmass_8000K_pt2Myr:.2e}\")\n",
    "print(f\"\\t\\t{cmass_8000K_pt2Myr/const.M_earth:.2e} M_earth\")\n",
    "print(f\"This yields C/CO ratios at 169 K ranging between\")\n",
    "print(f\"\\t{cmass_8000K_pt2Myr/co_mass_lower_ht:0.2e}\")\n",
    "print(f\"\\t{cmass_8000K_pt2Myr/co_mass_upper_ht:0.2e}\")"
   ]
  },
  {
   "cell_type": "markdown",
   "metadata": {},
   "source": [
    "Below, we calculate the amount of carbon needed to shield the CO on a timescale of 23 Myr, or the age of the system. "
   ]
  },
  {
   "cell_type": "code",
   "execution_count": 11,
   "metadata": {},
   "outputs": [
    {
     "name": "stdout",
     "output_type": "stream",
     "text": [
      "To achieve a lifetime of 2.3e+07 yr\n",
      "\tFor a 10000 K star, you need a C column density of \n",
      "\t\t1.34e+18 1 / cm2\n",
      "\tFor a 4000 K star, you need a C column density of \n",
      "\t\t1.30e+18 1 / cm2\n",
      "Assuming the column density can be scaled for an 8000K star, \n",
      "\tFor a 8000 K star, you need a C column density of \n",
      "\t\t1.32e+18 1 / cm2\n",
      "\tThis translates to a C mass of \n",
      "\t\t1.16e+19 kg\n",
      "\t\t1.95e-06 M_earth\n",
      "This yields CO/C ratios at 169 K ranging between\n",
      "\t2.31e+00\n",
      "\t6.22e+00\n"
     ]
    }
   ],
   "source": [
    "timescale_23Myr = (23e6 * u.yr).to(unshield_timescale.unit)\n",
    "shield_target = unshield_timescale/timescale_23Myr\n",
    "\n",
    "idx_10000K_23Myr = find_nearest(interp_cshield_func_10000K,shield_target.value)\n",
    "idx_4000K_23Myr = find_nearest(interp_cshield_func_4000K,shield_target.value)\n",
    "\n",
    "colden_10000K_23Myr = colden_for_interp[idx_10000K_23Myr]\n",
    "colden_4000K_23Myr = colden_for_interp[idx_4000K_23Myr]\n",
    "colden_8000K_23Myr = colden_4000K_23Myr + \\\n",
    "                     (2/3)*(colden_10000K_23Myr - colden_4000K_23Myr)\n",
    "\n",
    "cmass_8000K_23Myr = calc_mass(colden_8000K_23Myr, high_temperature, mm_c)\n",
    "\n",
    "print(f\"To achieve a lifetime of {timescale_23Myr.to(u.yr):.1e}\")\n",
    "print(\"\\tFor a 10000 K star, you need a C column density of \")\n",
    "print(f\"\\t\\t{colden_10000K_23Myr:.2e}\")\n",
    "print(\"\\tFor a 4000 K star, you need a C column density of \")\n",
    "print(f\"\\t\\t{colden_4000K_23Myr:.2e}\")\n",
    "print(\"Assuming the column density can be scaled for an 8000K star, \")\n",
    "print(\"\\tFor a 8000 K star, you need a C column density of \")\n",
    "print(f\"\\t\\t{colden_8000K_23Myr:.2e}\")\n",
    "print(\"\\tThis translates to a C mass of \")\n",
    "print(f\"\\t\\t{cmass_8000K_23Myr:.2e}\")\n",
    "print(f\"\\t\\t{cmass_8000K_23Myr/const.M_earth:.2e} M_earth\")\n",
    "print(f\"This yields CO/C ratios at 169 K ranging between\")\n",
    "print(f\"\\t{co_mass_lower_ht/cmass_8000K_23Myr:0.2e}\")\n",
    "print(f\"\\t{co_mass_upper_ht/cmass_8000K_23Myr:0.2e}\")"
   ]
  },
  {
   "cell_type": "code",
   "execution_count": null,
   "metadata": {},
   "outputs": [],
   "source": []
  },
  {
   "cell_type": "code",
   "execution_count": null,
   "metadata": {},
   "outputs": [],
   "source": []
  }
 ],
 "metadata": {
  "kernelspec": {
   "display_name": "Python 3",
   "language": "python",
   "name": "python3"
  },
  "language_info": {
   "codemirror_mode": {
    "name": "ipython",
    "version": 3
   },
   "file_extension": ".py",
   "mimetype": "text/x-python",
   "name": "python",
   "nbconvert_exporter": "python",
   "pygments_lexer": "ipython3",
   "version": "3.7.0"
  }
 },
 "nbformat": 4,
 "nbformat_minor": 2
}
